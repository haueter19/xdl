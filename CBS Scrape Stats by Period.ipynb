{
 "cells": [
  {
   "cell_type": "code",
   "execution_count": 2,
   "id": "3ca706a3",
   "metadata": {},
   "outputs": [],
   "source": [
    "import math\n",
    "import re\n",
    "import sqlite3\n",
    "import time\n",
    "import pandas as pd\n",
    "pd.set_option('display.max_columns', None)\n",
    "#import plotly.graph_objects as go\n",
    "#import plotly.express as px\n",
    "from bs4 import BeautifulSoup as bs4\n",
    "from selenium.webdriver import Chrome\n",
    "from selenium import webdriver\n",
    "from selenium.webdriver.common.by import By\n",
    "\n",
    "from sqlalchemy import MetaData, text, Column, Integer, String, ForeignKey, Table, create_engine, Float, Boolean, DateTime\n",
    "from sqlalchemy.orm import relationship, backref, sessionmaker\n",
    "from sqlalchemy.ext.declarative import declarative_base\n",
    "\n",
    "meta = MetaData()\n",
    "engine = create_engine('sqlite:///fantasy_data.db', echo=False)\n",
    "\n",
    "#from optimize_lineup import Optimized_Lineups\n",
    "from fantasy_utils import Fantasy_Projections as fp\n",
    "import fantasy_utils as fu\n",
    "fp = fu.Fantasy_Projections()"
   ]
  },
  {
   "cell_type": "code",
   "execution_count": 6,
   "id": "4f82fed7",
   "metadata": {},
   "outputs": [],
   "source": [
    "conn = sqlite3.connect('fantasy_data.db')\n",
    "conn.create_function('sqrt', 1, math.sqrt)"
   ]
  },
  {
   "cell_type": "code",
   "execution_count": null,
   "id": "dbbf8c26",
   "metadata": {},
   "outputs": [],
   "source": [
    "def login():\n",
    "    driver = webdriver.Chrome(\"C:\\\\ProgramData\\\\Anaconda3\\\\WebDriver\\\\bin\\\\chromedriver.exe\")\n",
    "    driver.get('https://www.cbssports.com/login?master_product=150&xurl=https%3A%2F%2Fwww.cbssports.com%2Flogin')\n",
    "    search_box = driver.find_element_by_id('userid')\n",
    "    search_box.send_keys('gostros09')\n",
    "    search_box = driver.find_element_by_id('password')\n",
    "    search_box.send_keys('Segneri9A')\n",
    "    search_box.submit()\n",
    "    return driver"
   ]
  },
  {
   "cell_type": "code",
   "execution_count": null,
   "id": "a967f12c",
   "metadata": {},
   "outputs": [],
   "source": [
    "def scrape_cbs_owner_weekly_roster(soup, ids, owner, wk):\n",
    "    id_dict = {i.text:int(i['href'].split('/')[-1]) for i in soup.find_all(\"a\", {\"class\": \"playerLink\"}, href=True) if i.text!=''}\n",
    "    df = pd.DataFrame()\n",
    "    for idx in range(2):\n",
    "        t = pd.read_html(str(soup.find_all('table')[1:25]))[idx]\n",
    "        t.columns = t.columns.droplevel().droplevel()\n",
    "        t = t[['Pos', 'Players', 'Salary']]\n",
    "        t['Week'] = wk\n",
    "        t['Owner'] = owner\n",
    "        \n",
    "        if idx==0: # for batters\n",
    "            reserves_idx = t[t['Pos']=='Reserves'].index.values[0]\n",
    "            t = pd.concat([t.iloc[:reserves_idx], t.iloc[reserves_idx+1:]])\n",
    "            t.loc[:reserves_idx, 'Decision'] = 'Start'\n",
    "            t.loc[reserves_idx:, 'Decision'] = 'Sit'\n",
    "        else: # for pitchers\n",
    "            reserves_idx = t[t['Pos']=='Reserves'].index.values[0]\n",
    "            t = pd.concat([t.iloc[:reserves_idx], t.iloc[reserves_idx+1:-1]])\n",
    "            t.loc[:reserves_idx, 'Decision'] = 'Start'\n",
    "            t.loc[reserves_idx:t.index.max(), 'Decision'] = 'Sit'\n",
    "        \n",
    "        try:\n",
    "            t['Team'] = t.Players.apply(lambda x: x.split()[-1])\n",
    "        except:\n",
    "            pass\n",
    "        try:\n",
    "            t['Player'] = t.Players.apply(lambda x: ' '.join(x.split()[:-3]))\n",
    "        except:\n",
    "            pass\n",
    "\n",
    "        t = t.merge(pd.Series(id_dict).to_frame('CBSID'), left_on='Player', right_index=True, how='left')\n",
    "        t = t.merge(ids[['CBSID', 'IDFANGRAPHS', 'MLBID']], on='CBSID', how='left', indicator=True)[['Player', 'Owner', 'Week', 'Team', 'Pos', 'Decision', 'CBSID', 'MLBID', 'IDFANGRAPHS']]\n",
    "        df = pd.concat([df,t])\n",
    "    \n",
    "    df.rename(columns={'Player':'CBSNAME'},inplace=True)\n",
    "    return df"
   ]
  },
  {
   "cell_type": "code",
   "execution_count": null,
   "id": "4f9e6d09",
   "metadata": {},
   "outputs": [],
   "source": [
    "def click_week(wk):\n",
    "    details = driver.find_element_by_xpath(\"//div[@class ='select_form_div darkFilter']\")\n",
    "    res = details.find_elements_by_xpath(\"//li\")\n",
    "    for i in res:\n",
    "        if i.text==wk:\n",
    "            i.click()\n",
    "    return"
   ]
  },
  {
   "cell_type": "code",
   "execution_count": null,
   "id": "ed4cf0f2",
   "metadata": {},
   "outputs": [],
   "source": [
    "def get_weekly_sit_or_start_by_owner(owner_name, owner_id, ids):\n",
    "    driver.get(f\"https://xdl.baseball.cbssports.com/teams/{owner_id}\")\n",
    "    time.sleep(1)\n",
    "    driver.execute_script(\"window.scrollTo(0, 0);\")\n",
    "\n",
    "    data = pd.DataFrame()\n",
    "    for wk in range(1,28):\n",
    "        if wk==1:\n",
    "            driver.find_element_by_xpath(f\"//div[@class ='select_form_div darkFilter']/div/span[text()='Off Season']\").click()\n",
    "            driver.implicitly_wait(4)\n",
    "            driver.find_element_by_xpath(f\"//div[@class ='select_form_div darkFilter']/ul/li[@value='/teams/roster-report/{owner_id}/1/']\").click()\n",
    "        else:\n",
    "            driver.execute_script(\"window.scrollTo(0, 0);\")\n",
    "            time.sleep(.5)\n",
    "            driver.find_element_by_xpath(f\"//div[@class ='select_form_div darkFilter']/div/span[text()='{wk-1}']\").click()\n",
    "            time.sleep(2)\n",
    "            elem = driver.find_elements_by_xpath(f\"//div[@class ='select_form_div darkFilter']/ul/li\")\n",
    "            driver.implicitly_wait(4)\n",
    "            time.sleep(2)\n",
    "            for e in elem:\n",
    "                if e.text==str(wk):\n",
    "                    e.click()\n",
    "\n",
    "        time.sleep(2)\n",
    "        html = driver.page_source\n",
    "        soup = bs4(html, 'html.parser')\n",
    "        data = pd.concat([data, scrape_cbs_owner_weekly_roster(soup, ids, owner_name, wk)])\n",
    "\n",
    "    data.to_excel(f'data//{datetime.now().year}-{owner_name}-sit-start.xlsx', engine='openpyxl', index=False)\n",
    "    return data"
   ]
  },
  {
   "cell_type": "code",
   "execution_count": 3,
   "id": "fe2dbede",
   "metadata": {},
   "outputs": [
    {
     "data": {
      "text/plain": [
       "[{'owner_id': 30, 'owner': '9 Grand Kids'},\n",
       " {'owner_id': 3, 'owner': 'Brewbirds'},\n",
       " {'owner_id': 36, 'owner': 'Charmer'},\n",
       " {'owner_id': 41, 'owner': 'Dirty Birds'},\n",
       " {'owner_id': 4, 'owner': 'Harveys Wallbangers'},\n",
       " {'owner_id': 27, 'owner': 'Lil Trump & the Ivanabees'},\n",
       " {'owner_id': 38, 'owner': 'Lima Time!'},\n",
       " {'owner_id': 44, 'owner': 'Roid Ragers'},\n",
       " {'owner_id': 1, 'owner': 'Trouble with the Curve'},\n",
       " {'owner_id': 29, 'owner': 'Ugly Spuds'},\n",
       " {'owner_id': 42, 'owner': 'Wiscompton Wu-Tang'},\n",
       " {'owner_id': 45, 'owner': 'Young Guns'}]"
      ]
     },
     "execution_count": 3,
     "metadata": {},
     "output_type": "execute_result"
    }
   ],
   "source": [
    "pd.read_sql('owners', engine).to_dict(orient='records')"
   ]
  },
  {
   "cell_type": "code",
   "execution_count": null,
   "id": "daec912c",
   "metadata": {},
   "outputs": [],
   "source": [
    "owner_dict = {\"9 Grand Kids\":'30', 'Brewbirds':'3', 'Charmer':'36', 'Dirty Birds':'41', \"Harveys Wallbangers\":'4', 'Lil Trump & the Ivanabees':'27', 'Lima Time!':'38', \n",
    "                        'Roid Ragers':'44', 'Trouble with the Curve':'1', 'Ugly Spuds':'29', 'Wiscompton Wu-Tang':'42', 'Young Guns':'45'}\n",
    "position_priority = ['C', '2B', '3B', 'SS', 'OF', '1B', 'MI', 'CI', 'DH', 'SP', 'RP']"
   ]
  },
  {
   "cell_type": "code",
   "execution_count": null,
   "id": "30def970",
   "metadata": {},
   "outputs": [],
   "source": [
    "ids = fp.load_id_map()"
   ]
  },
  {
   "cell_type": "code",
   "execution_count": null,
   "id": "41e06e70",
   "metadata": {},
   "outputs": [],
   "source": [
    "name_change = {\"9 Gran...\":'9 Grand Kids', 'Brewbi...':'Brewbirds', 'Charme...':'Charmer', 'Dirty ...':'Dirty Birds', 'Harvey...':'Harveys Wallgangers', 'Lil Tr...':'Lil Trump & the Ivanabees', \n",
    "               'Lima T...':'Lima Time!', 'Roid R...':'Roid Ragers', 'Troubl...':'Trouble with the Curve', 'Ugly S...':'Ugly Spuds', 'Wiscom...':'Wiscompton Wu-Tang', 'Young ...':'Young Guns'}"
   ]
  },
  {
   "cell_type": "code",
   "execution_count": null,
   "id": "9e648828",
   "metadata": {},
   "outputs": [],
   "source": [
    "team_list = ['Lima Time!', 'Ugly Spuds', 'Harveys Wallbangers', 'Roid Ragers', 'Charmer', 'Wiscompton Wu-Tang', '9 Grand Kids', 'Brewbirds', 'Trouble With The Curve', 'Lil Trump & The Ivanabees', 'Dirty Birds', 'Young Guns'] \n",
    "stat_list = ['BA', 'HR', 'R', 'RBI', 'SB', 'ERA', 'Sv+Hld', 'SO', 'W', 'WHIP']"
   ]
  },
  {
   "cell_type": "code",
   "execution_count": null,
   "id": "809265c6",
   "metadata": {},
   "outputs": [],
   "source": [
    "driver = login()"
   ]
  },
  {
   "cell_type": "code",
   "execution_count": null,
   "id": "80365059",
   "metadata": {},
   "outputs": [],
   "source": [
    "driver.implicitly_wait(10)\n",
    "driver.get('https://xdl.baseball.cbssports.com/stats/stats-main')\n",
    "time.sleep(4)\n",
    "driver.find_element_by_xpath(f\"//a[@href ='/SP:RP']\").click()\n",
    "time.sleep(1.5)\n",
    "driver.find_element_by_xpath(f\"//a[@href ='/all']\").click()\n",
    "time.sleep(1.5)\n",
    "driver.execute_script(\"window.scrollTo(0, 150);\")\n",
    "driver.find_element_by_xpath(f\"//div[@class ='select_div_label_container selected_arrow']\").click()\n",
    "time.sleep(2)\n",
    "elem = driver.find_elements_by_xpath(f\"//ul[@class='form_select_ul combinedFilterUl3Cols']/li\")\n"
   ]
  },
  {
   "cell_type": "markdown",
   "id": "3fea9029",
   "metadata": {},
   "source": [
    "### Begin loop code"
   ]
  },
  {
   "cell_type": "code",
   "execution_count": null,
   "id": "d6a317f2",
   "metadata": {},
   "outputs": [],
   "source": [
    "# pitching\n",
    "#driver.get(f'https://xdl.baseball.cbssports.com/stats/stats-main/all:SP:RP/period-{1}:p/standard/stats?print_rows=999')\n",
    "# hitting\n",
    "driver.get(f'https://xdl.baseball.cbssports.com/stats/stats-main/all:C:1B:2B:3B:SS:MI:CI:OF:DH/period-1:p/standard/stats?print_rows=9999')\n",
    "# Then need to click \"All\""
   ]
  },
  {
   "cell_type": "code",
   "execution_count": null,
   "id": "5985803d",
   "metadata": {},
   "outputs": [],
   "source": [
    "wk = 0\n",
    "df = pd.DataFrame()"
   ]
  },
  {
   "cell_type": "code",
   "execution_count": null,
   "id": "2175689a",
   "metadata": {},
   "outputs": [],
   "source": [
    "wk"
   ]
  },
  {
   "cell_type": "code",
   "execution_count": null,
   "id": "51a6cdff",
   "metadata": {},
   "outputs": [],
   "source": [
    "wk += 1\n",
    "html = driver.page_source\n",
    "soup = bs4(html, 'html.parser')\n",
    "data = pd.read_html(str(soup.find_all('table')[1:25]))[0]\n",
    "data.columns = data.columns.droplevel()\n",
    "data = data.iloc[:-1, 1:]\n",
    "data['Rank'] = data['Rank'].astype(int)\n",
    "data = data[(data['Avail']!='FA') | (data['Rank']<9999)]\n",
    "data['Week'] = wk\n",
    "\n",
    "try:\n",
    "    data['Team'] = data.Player.apply(lambda x: x.split()[-1])\n",
    "except:\n",
    "    pass\n",
    "try:\n",
    "    data['Player'] = data.Player.apply(lambda x: ' '.join(x.split()[:-3]))\n",
    "except:\n",
    "    pass\n",
    "\n",
    "id_dict = {int(i['href'].split('/')[-1]):[i.text, i['aria-label'].split(' ')[-1]] for i in soup.find_all(\"a\", {\"class\": \"playerLink\"}, href=True) if i.text!=''}\n",
    "id_df = pd.DataFrame(id_dict, index=['CBSNAME', 'Team']).T\n",
    "data = data.merge(id_df.reset_index(), left_on=['Player', 'Team'], right_on=['CBSNAME', 'Team'], how='left')\n",
    "\n",
    "df = pd.concat([df,data])\n",
    "time.sleep(2)\n",
    "if wk<27:\n",
    "    driver.get(f'https://xdl.baseball.cbssports.com/stats/stats-main/all:C:1B:2B:3B:SS:MI:CI:OF:DH/period-{wk+1}:p/standard/stats?print_rows=9999')"
   ]
  },
  {
   "cell_type": "code",
   "execution_count": null,
   "id": "f8c7902a",
   "metadata": {},
   "outputs": [],
   "source": [
    "df.shape"
   ]
  },
  {
   "cell_type": "code",
   "execution_count": null,
   "id": "39659972",
   "metadata": {},
   "outputs": [],
   "source": [
    "data"
   ]
  },
  {
   "cell_type": "markdown",
   "id": "01293e23",
   "metadata": {},
   "source": [
    "### End looping code"
   ]
  },
  {
   "cell_type": "code",
   "execution_count": null,
   "id": "5a1d5985",
   "metadata": {},
   "outputs": [],
   "source": [
    "df.rename(columns={'index':'cbsid'},inplace=True)\n",
    "df = df.replace(name_change)\n",
    "df.loc[df['Player']=='Logan O\\'Hoppe', 'cbsid'] = 3166980\n",
    "df.loc[df['Player']=='Travis d\\'Arnaud', 'cbsid'] = 1730742\n",
    "df.loc[df['Player']=='Brian O\\'Keefe', 'cbsid'] = 3089588\n",
    "df.loc[df['Player']=='Ke\\'Bryan Hayes', 'cbsid'] = 2211187\n",
    "df.loc[df['Player']=='Tyler O\\'Neill', 'cbsid'] = 2171342\n",
    "df.loc[df['Player']=='Ryan O\\'Hearn', 'cbsid'] = 2211177\n",
    "#df = df.merge(ids[['CBSID', 'IDFANGRAPHS', 'MLBID']], left_on='cbsid', right_on='CBSID', how='left', indicator=True)"
   ]
  },
  {
   "cell_type": "code",
   "execution_count": null,
   "id": "fed7eb2a",
   "metadata": {},
   "outputs": [],
   "source": [
    "df = pd.read_excel('data//2023-weekly-stats-h.xlsx')"
   ]
  },
  {
   "cell_type": "code",
   "execution_count": null,
   "id": "fe8cb229",
   "metadata": {},
   "outputs": [],
   "source": [
    "df[df['cbsid'].isna()].Player.unique()"
   ]
  },
  {
   "cell_type": "code",
   "execution_count": null,
   "id": "d6e100ac",
   "metadata": {},
   "outputs": [],
   "source": [
    "#df.to_excel('data//2023-weekly-holds.xlsx')\n",
    "#dfp = df.copy()"
   ]
  },
  {
   "cell_type": "code",
   "execution_count": null,
   "id": "3fcc05e6",
   "metadata": {},
   "outputs": [],
   "source": [
    "dfh = df.copy()\n",
    "#dfh.to_excel('data//2023-weekly-stats-new.xlsx')"
   ]
  },
  {
   "cell_type": "code",
   "execution_count": null,
   "id": "f2fbacff",
   "metadata": {},
   "outputs": [],
   "source": [
    "dfh.shape"
   ]
  },
  {
   "cell_type": "code",
   "execution_count": null,
   "id": "079366b8",
   "metadata": {},
   "outputs": [],
   "source": [
    "dfh = pd.read_excel('data//2023-weekly-stats-new.xlsx')\n",
    "dfh.fillna(0,inplace=True)"
   ]
  },
  {
   "cell_type": "code",
   "execution_count": null,
   "id": "67528580",
   "metadata": {},
   "outputs": [],
   "source": [
    "dfh['year'] = 2023\n",
    "dfh.rename(columns={'Week':'week'},inplace=True)"
   ]
  },
  {
   "cell_type": "code",
   "execution_count": null,
   "id": "08082739",
   "metadata": {},
   "outputs": [],
   "source": [
    "owners = pd.read_sql('roster', engine)\n",
    "owners.shape"
   ]
  },
  {
   "cell_type": "code",
   "execution_count": null,
   "id": "88a0d1b3",
   "metadata": {},
   "outputs": [],
   "source": [
    "owners.info()"
   ]
  },
  {
   "cell_type": "code",
   "execution_count": null,
   "id": "9da341ec",
   "metadata": {},
   "outputs": [],
   "source": [
    "dfh.info()"
   ]
  },
  {
   "cell_type": "code",
   "execution_count": null,
   "id": "c94c7c19",
   "metadata": {},
   "outputs": [],
   "source": [
    "pd.pivot_table(owners, values='cbsid', aggfunc='count', index='owner_id', columns='week')#.sum().sum()"
   ]
  },
  {
   "cell_type": "code",
   "execution_count": null,
   "id": "aed97899",
   "metadata": {},
   "outputs": [],
   "source": [
    "pd.pivot_table(dfh, columns='week', values='cbsid', aggfunc='count')"
   ]
  },
  {
   "cell_type": "code",
   "execution_count": null,
   "id": "e603735c",
   "metadata": {},
   "outputs": [],
   "source": [
    "dfh[['cbsid', 'year', 'week', 'R', 'RBI', 'HR', 'SB', 'H', 'AB']].merge(owners.query('pos!=\"B\" & pos!=\"SP\"'), on=['cbsid', 'year', 'week'], how='inner').query('owner_id==36 & week==1')"
   ]
  },
  {
   "cell_type": "code",
   "execution_count": null,
   "id": "766284af",
   "metadata": {},
   "outputs": [],
   "source": [
    "pd.pivot_table(dfh[['cbsid', 'year', 'week', 'R', 'RBI', 'HR', 'SB', 'H', 'AB']].merge(owners, on=['cbsid', 'year', 'week'], how='inner').query('pos!=\"B\" & pos!=\"SP\" & pos!=\"RP\" & pos!=\"P\"'),\n",
    "               index='owner_id', columns='week', values='HR', aggfunc='sum')"
   ]
  },
  {
   "cell_type": "code",
   "execution_count": null,
   "id": "e094c1c1",
   "metadata": {},
   "outputs": [],
   "source": [
    "p = pd.read_excel('data//2023-weekly-stats-p.xlsx')\n",
    "#p['year'] = 2023\n",
    "#p.rename(columns={'Outs':'outs', 'Week':'week'},inplace=True)\n",
    "#p.rename(columns={'H':'Ha', 'BB':'BBa', 'K':'SO'},inplace=True)"
   ]
  },
  {
   "cell_type": "code",
   "execution_count": null,
   "id": "c39b8026",
   "metadata": {},
   "outputs": [],
   "source": [
    "p[p['cbsid'].isna()]"
   ]
  },
  {
   "cell_type": "code",
   "execution_count": null,
   "id": "23148a9f",
   "metadata": {},
   "outputs": [],
   "source": [
    "#p['outs'] = p.INNs.apply(lambda x: (int(str(x).split('.')[0])*3) + int(str(x).split('.')[1]))\n",
    "#p['IP'] = round(p['outs']/3.,2)\n",
    "#p['ER'] = round(p['ERA']*p['IP']/9.,1)\n",
    "#p['SvHld'] = p['S']+p['HD']"
   ]
  },
  {
   "cell_type": "code",
   "execution_count": null,
   "id": "e16304f9",
   "metadata": {},
   "outputs": [],
   "source": [
    "p.to_excel('data//2023-weekly-stats-p.xlsx')"
   ]
  },
  {
   "cell_type": "code",
   "execution_count": null,
   "id": "8b26e957",
   "metadata": {},
   "outputs": [],
   "source": [
    "pd.pivot_table(p, columns='week', values='cbsid', aggfunc='count').reset_index().sort_values(1, ascending=False)"
   ]
  },
  {
   "cell_type": "code",
   "execution_count": null,
   "id": "e36d80a8",
   "metadata": {},
   "outputs": [],
   "source": [
    "pd.pivot_table(p[['cbsid', 'year', 'week', 'W', 'SO', 'SvHld', 'ER', 'Ha', 'BBa', 'IP', 'outs']].merge(owners, on=['cbsid', 'year', 'week'], how='inner').query('pos==\"SP\" | pos==\"RP\" | pos==\"P\"'),\n",
    "               index='owner_id', columns='week', values='SO', aggfunc='sum').sort_values(1,ascending=False)"
   ]
  },
  {
   "cell_type": "code",
   "execution_count": null,
   "id": "d8f52834",
   "metadata": {},
   "outputs": [],
   "source": [
    "p[['cbsid', 'year', 'week', 'W', 'SO', 'SvHld', 'ER', 'Ha', 'BBa', 'IP', 'outs']].merge(owners, on=['cbsid', 'year', 'week'], how='inner').query('cbsid==2901324')"
   ]
  },
  {
   "cell_type": "code",
   "execution_count": null,
   "id": "4401f011",
   "metadata": {},
   "outputs": [],
   "source": [
    "dfh[['cbsid', 'year', 'week', 'R', 'RBI', 'HR', 'SB', 'H', 'AB']].merge(owners, on=['cbsid', 'year', 'week'], how='inner').query('cbsid==2901324')"
   ]
  },
  {
   "cell_type": "code",
   "execution_count": null,
   "id": "e2928b9e",
   "metadata": {},
   "outputs": [],
   "source": [
    "#dfh = dfh[['cbsid', 'year', 'week', 'R', 'RBI', 'HR', 'SB', 'H', 'AB']].sort_values(['cbsid', 'year', 'week'])\n",
    "p = p[['cbsid', 'year', 'week',  'W', 'SO', 'SvHld', 'ER', 'Ha', 'BBa', 'IP', 'outs']].sort_values(['cbsid', 'year', 'week'])"
   ]
  },
  {
   "cell_type": "code",
   "execution_count": null,
   "id": "a90cacea",
   "metadata": {},
   "outputs": [],
   "source": [
    "stats = dfh.merge(p, on=['cbsid', 'year', 'week'],how='outer')#.fillna(0)"
   ]
  },
  {
   "cell_type": "code",
   "execution_count": null,
   "id": "3a9564a0",
   "metadata": {},
   "outputs": [],
   "source": [
    "#for col in ['cbsid', 'R', 'RBI', 'HR', 'SB', 'H', 'AB', 'W', 'SO', 'SV+HLD', 'ER', 'Ha', 'BBa', 'outs']:\n",
    "#    stats[col] = stats[col].astype(int)"
   ]
  },
  {
   "cell_type": "code",
   "execution_count": null,
   "id": "c1827cbd",
   "metadata": {},
   "outputs": [],
   "source": [
    "# Uncomment to append to stats table\n",
    "# ! make sure not to fill nan values !\n",
    "#stats.sort_values(['cbsid', 'year', 'week']).to_sql('stats', if_exists='replace', con=engine, index=False)"
   ]
  },
  {
   "cell_type": "markdown",
   "id": "d6e84159",
   "metadata": {},
   "source": [
    "#### need a way to remove data where the player did not hit or did not pitch, or need to make two separate stats tables"
   ]
  },
  {
   "cell_type": "code",
   "execution_count": null,
   "id": "a334f7ff",
   "metadata": {},
   "outputs": [],
   "source": [
    "pd.pivot_table(stats, index='week', values=['R', 'RBI', 'HR', 'SB'], aggfunc=['mean', 'std'])"
   ]
  },
  {
   "cell_type": "code",
   "execution_count": 116,
   "id": "ddb4c53b",
   "metadata": {},
   "outputs": [
    {
     "data": {
      "text/html": [
       "<div>\n",
       "<style scoped>\n",
       "    .dataframe tbody tr th:only-of-type {\n",
       "        vertical-align: middle;\n",
       "    }\n",
       "\n",
       "    .dataframe tbody tr th {\n",
       "        vertical-align: top;\n",
       "    }\n",
       "\n",
       "    .dataframe thead th {\n",
       "        text-align: right;\n",
       "    }\n",
       "</style>\n",
       "<table border=\"1\" class=\"dataframe\">\n",
       "  <thead>\n",
       "    <tr style=\"text-align: right;\">\n",
       "      <th></th>\n",
       "      <th>name</th>\n",
       "    </tr>\n",
       "  </thead>\n",
       "  <tbody>\n",
       "    <tr>\n",
       "      <th>0</th>\n",
       "      <td>hitting</td>\n",
       "    </tr>\n",
       "    <tr>\n",
       "      <th>1</th>\n",
       "      <td>ix_hitting_index</td>\n",
       "    </tr>\n",
       "    <tr>\n",
       "      <th>2</th>\n",
       "      <td>hitters</td>\n",
       "    </tr>\n",
       "    <tr>\n",
       "      <th>3</th>\n",
       "      <td>sqlite_autoindex_hitters_1</td>\n",
       "    </tr>\n",
       "    <tr>\n",
       "      <th>4</th>\n",
       "      <td>players2022</td>\n",
       "    </tr>\n",
       "    <tr>\n",
       "      <th>5</th>\n",
       "      <td>players</td>\n",
       "    </tr>\n",
       "    <tr>\n",
       "      <th>6</th>\n",
       "      <td>ix_players_index</td>\n",
       "    </tr>\n",
       "    <tr>\n",
       "      <th>7</th>\n",
       "      <td>owners</td>\n",
       "    </tr>\n",
       "    <tr>\n",
       "      <th>8</th>\n",
       "      <td>drafted</td>\n",
       "    </tr>\n",
       "    <tr>\n",
       "      <th>9</th>\n",
       "      <td>eligibility</td>\n",
       "    </tr>\n",
       "    <tr>\n",
       "      <th>10</th>\n",
       "      <td>roster</td>\n",
       "    </tr>\n",
       "    <tr>\n",
       "      <th>11</th>\n",
       "      <td>stats</td>\n",
       "    </tr>\n",
       "    <tr>\n",
       "      <th>12</th>\n",
       "      <td>vw_stats_summary</td>\n",
       "    </tr>\n",
       "  </tbody>\n",
       "</table>\n",
       "</div>"
      ],
      "text/plain": [
       "                          name\n",
       "0                      hitting\n",
       "1             ix_hitting_index\n",
       "2                      hitters\n",
       "3   sqlite_autoindex_hitters_1\n",
       "4                  players2022\n",
       "5                      players\n",
       "6             ix_players_index\n",
       "7                       owners\n",
       "8                      drafted\n",
       "9                  eligibility\n",
       "10                      roster\n",
       "11                       stats\n",
       "12            vw_stats_summary"
      ]
     },
     "execution_count": 116,
     "metadata": {},
     "output_type": "execute_result"
    }
   ],
   "source": [
    "pd.read_sql(\"SELECT name FROM sqlite_master\", engine)"
   ]
  },
  {
   "cell_type": "code",
   "execution_count": null,
   "id": "fa77452a",
   "metadata": {},
   "outputs": [],
   "source": []
  }
 ],
 "metadata": {
  "hide_input": false,
  "kernelspec": {
   "display_name": "Python 3 (ipykernel)",
   "language": "python",
   "name": "python3"
  },
  "language_info": {
   "codemirror_mode": {
    "name": "ipython",
    "version": 3
   },
   "file_extension": ".py",
   "mimetype": "text/x-python",
   "name": "python",
   "nbconvert_exporter": "python",
   "pygments_lexer": "ipython3",
   "version": "3.7.4"
  }
 },
 "nbformat": 4,
 "nbformat_minor": 5
}
