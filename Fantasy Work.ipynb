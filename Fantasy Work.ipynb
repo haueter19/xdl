{
 "cells": [
  {
   "cell_type": "code",
   "execution_count": 1,
   "id": "fccbff49",
   "metadata": {},
   "outputs": [],
   "source": [
    "import plotly.graph_objects as go\n",
    "import plotly.express as px\n",
    "import numpy as np\n",
    "import pandas as pd\n",
    "from datetime import datetime\n",
    "pd.options.display.max_columns = None\n",
    "#from pybaseball import batting_stats, pitching_stats, cache, playerid_lookup, statcast_batter, statcast_pitcher, statcast\n",
    "import math\n",
    "#from fantasy_utils import Fantasy_Projections\n",
    "import fantasy_utils as fu\n",
    "\n",
    "import unicodedata\n",
    "#cache.enable()\n",
    "#cache.config.cache_type='csv'\n",
    "#cache.config.save()"
   ]
  },
  {
   "cell_type": "code",
   "execution_count": 2,
   "id": "479e1744",
   "metadata": {},
   "outputs": [],
   "source": [
    "from sqlalchemy import MetaData, text, Column, Integer, String, ForeignKey, Table, create_engine, Float, Boolean, DateTime\n",
    "from sqlalchemy.orm import relationship, backref, sessionmaker\n",
    "from sqlalchemy.ext.declarative import declarative_base\n",
    "\n",
    "meta = MetaData()\n",
    "engine = create_engine('sqlite:///fantasy_data.db', echo=False)\n",
    "Session = sessionmaker(bind=engine)\n",
    "session = Session()\n",
    "#Base = declarative_base()\n",
    "\n",
    "# Function to correct encoding\n",
    "def correct_encoding(s):\n",
    "    return s.encode('iso-8859-1').decode('utf-8')\n",
    "\n",
    "# Function to correct encoding and remove accents\n",
    "def remove_accents(input_str):\n",
    "    input_str = input_str.encode('iso-8859-1').decode('utf-8')\n",
    "    # Normalizing the string\n",
    "    nfkd_form = unicodedata.normalize('NFKD', input_str)\n",
    "    # Filtering out the accent characters and returning the base characters\n",
    "    return \"\".join([c for c in nfkd_form if not unicodedata.combining(c)])"
   ]
  },
  {
   "cell_type": "code",
   "execution_count": null,
   "id": "e2232d23",
   "metadata": {},
   "outputs": [],
   "source": [
    "fp = fu.Fantasy_Projections(n_teams=12)\n",
    "print(fp.yr)\n",
    "print(fp.proj_systems)\n",
    "print(fp.pos_hierarchy)"
   ]
  },
  {
   "cell_type": "code",
   "execution_count": null,
   "id": "3c9d08f7",
   "metadata": {},
   "outputs": [],
   "source": [
    "fp.proj_systems = ['steamer', 'atc', 'thebat'] # used for 2024\n",
    "#fp.proj_systems = ['dc']"
   ]
  },
  {
   "cell_type": "code",
   "execution_count": null,
   "id": "dd0b7677",
   "metadata": {},
   "outputs": [],
   "source": [
    "h, p = fp.prep_projection_data()"
   ]
  },
  {
   "cell_type": "code",
   "execution_count": null,
   "id": "44e6486f",
   "metadata": {},
   "outputs": [],
   "source": [
    "fp.pos_hierarchy = ['C', 'OF', 'SS', '2B', '3B', '1B', 'DH', 'SP', 'RP', 'P']\n",
    "fp.pos_hierarchy = ['C', 'SS', 'OF', '2B', '3B', '1B', 'DH', 'SP', 'RP', 'P']"
   ]
  },
  {
   "cell_type": "code",
   "execution_count": null,
   "id": "e6c39914",
   "metadata": {},
   "outputs": [],
   "source": [
    "fp.pos_hierarchy = ['RP', 'SP', 'P', 'C', 'DH', '1B', '3B', '2B', 'SS', 'OF']"
   ]
  },
  {
   "cell_type": "code",
   "execution_count": null,
   "id": "15db94da",
   "metadata": {},
   "outputs": [],
   "source": [
    "df = fp.calc_value()\n",
    "fp.data['ERA_ly'] = round(fp.data['ERA_ly'],2)\n",
    "fp.data['Name'] = fp.data['Name'].apply(remove_accents)\n",
    "df['Name'] = df['Name'].apply(remove_accents)"
   ]
  },
  {
   "cell_type": "code",
   "execution_count": null,
   "id": "93ff31d3",
   "metadata": {},
   "outputs": [],
   "source": [
    "df[df['Name']=='Jacob deGrom']"
   ]
  },
  {
   "cell_type": "code",
   "execution_count": null,
   "id": "7571eda8",
   "metadata": {},
   "outputs": [],
   "source": [
    "fp.data.loc[fp.data['playerid']=='21846', ['ERA', 'WHIP', 'SO']] = [3.47, 1.19, 189]"
   ]
  },
  {
   "cell_type": "code",
   "execution_count": null,
   "id": "19a1b94d",
   "metadata": {},
   "outputs": [],
   "source": [
    "fp.calc_z(fp.data.loc[fp.data['playerid']=='21846'],'p')"
   ]
  },
  {
   "cell_type": "code",
   "execution_count": null,
   "id": "5b2a23f4",
   "metadata": {},
   "outputs": [],
   "source": [
    "(260/23) * ((23*12)/df[df['z']>0]['z'].sum())"
   ]
  },
  {
   "cell_type": "code",
   "execution_count": null,
   "id": "18d6316a",
   "metadata": {},
   "outputs": [],
   "source": [
    "4.590441*4.4206898"
   ]
  },
  {
   "cell_type": "code",
   "execution_count": null,
   "id": "ff0c3ea9",
   "metadata": {},
   "outputs": [],
   "source": [
    "df[df['Supp'].notna()][['Name', 'Value', 'Supp', 'z']]"
   ]
  },
  {
   "cell_type": "code",
   "execution_count": null,
   "id": "fcc3edec",
   "metadata": {},
   "outputs": [],
   "source": [
    "fp.pos_hierarchy"
   ]
  },
  {
   "cell_type": "code",
   "execution_count": null,
   "id": "df76d185",
   "metadata": {},
   "outputs": [],
   "source": [
    "#['C', '2B', '3B', 'SS', 'OF', '1B', 'DH', 'SP', 'RP', 'P']\n",
    "fp.pos_adjust"
   ]
  },
  {
   "cell_type": "code",
   "execution_count": null,
   "id": "30489393",
   "metadata": {},
   "outputs": [],
   "source": [
    "#['C', 'OF', 'SS', '2B', '3B', '1B', 'DH', 'SP', 'RP', 'P']\n",
    "fp.pos_adjust"
   ]
  },
  {
   "cell_type": "code",
   "execution_count": null,
   "id": "1013e882",
   "metadata": {},
   "outputs": [],
   "source": [
    "fp.pos_adjust"
   ]
  },
  {
   "cell_type": "code",
   "execution_count": null,
   "id": "b26151a0",
   "metadata": {},
   "outputs": [],
   "source": [
    "df[df['z']>0]['z'].sum(), df[df['z']>0].shape[0]"
   ]
  },
  {
   "cell_type": "code",
   "execution_count": null,
   "id": "39ca03d3",
   "metadata": {},
   "outputs": [],
   "source": [
    "fp.upload('players2024')"
   ]
  },
  {
   "cell_type": "code",
   "execution_count": null,
   "id": "76dc01c2",
   "metadata": {},
   "outputs": [],
   "source": [
    "df[df['Name'].isin(['Jhoan Duran', 'Bryan Abreu', 'Tanner Scott', 'Jason Adam', 'Nico Hoerner'])][['Name', 'Dollars', 'CBS', 'Value']]"
   ]
  },
  {
   "cell_type": "code",
   "execution_count": null,
   "id": "eb6979f0",
   "metadata": {},
   "outputs": [],
   "source": [
    "dollars_rem = (12*260) - df['Paid'].sum()\n",
    "players_rem = (12*23) - df[df['Owner'].notna()].shape[0]\n",
    "z_rem = df[df['z']>0]['z'].sum() - df[(df['Owner'].notna()) & (df['z']>0)]['z'].sum()\n",
    "dollars_rem, players_rem, z_rem"
   ]
  },
  {
   "cell_type": "code",
   "execution_count": null,
   "id": "068a6feb",
   "metadata": {},
   "outputs": [],
   "source": [
    "(12*260)/(12*23), dollars_rem/players_rem"
   ]
  },
  {
   "cell_type": "code",
   "execution_count": null,
   "id": "92fa0f32",
   "metadata": {},
   "outputs": [],
   "source": [
    "dollars_rem / z_rem"
   ]
  },
  {
   "cell_type": "code",
   "execution_count": null,
   "id": "d282d356",
   "metadata": {},
   "outputs": [],
   "source": [
    "df[df['Name']=='Cole Ragans']"
   ]
  },
  {
   "cell_type": "code",
   "execution_count": null,
   "id": "4adde099",
   "metadata": {},
   "outputs": [],
   "source": [
    "df.loc[df['Primary_Pos'].isin(['C', '1B', '2B', '3B', 'OF', 'DH', 'SS']), 'PosClass'] = 'h'\n",
    "df['PosClass'].fillna('p', inplace=True)"
   ]
  },
  {
   "cell_type": "code",
   "execution_count": null,
   "id": "e11e7997",
   "metadata": {},
   "outputs": [],
   "source": [
    "avg_stats = {}\n",
    "for a,b in (df[(df['z']>0) & (df['PosClass']=='h')][['HR', 'SB', 'R', 'RBI', 'BA', 'H', 'AB']].sum()/12).reset_index(name='mean').iterrows():\n",
    "    avg_stats[b['index']] = b['mean']\n",
    "\n",
    "avg_stats['BA'] = avg_stats['H']/avg_stats['AB']\n",
    "avg_stats"
   ]
  },
  {
   "cell_type": "code",
   "execution_count": null,
   "id": "916739bf",
   "metadata": {},
   "outputs": [],
   "source": [
    "df[df['z']>0][['Value', 'CBS', 'Dollars']].sum()"
   ]
  },
  {
   "cell_type": "code",
   "execution_count": null,
   "id": "10fd4a41",
   "metadata": {},
   "outputs": [],
   "source": [
    "df['surplus'] = df['Value'] - df['CBS']\n",
    "df['surplus_rank'] = df['surplus'].rank(pct=True)"
   ]
  },
  {
   "cell_type": "code",
   "execution_count": null,
   "id": "3cbf7859",
   "metadata": {
    "scrolled": true
   },
   "outputs": [],
   "source": [
    "df[df['surplus_rank']>.96].sort_values('surplus_rank', ascending=False)"
   ]
  },
  {
   "cell_type": "code",
   "execution_count": null,
   "id": "a2a69431",
   "metadata": {},
   "outputs": [],
   "source": [
    "df.sort_values('surplus', ascending=False)[['playerid', 'Name', 'Team', 'Pos', 'Value', 'CBS', 'Dollars', 'surplus', 'z', 'HR', 'SB', 'R', 'RBI', 'BA', 'ERA', 'WHIP', 'W', 'SO', 'Sv+Hld']].head(25)"
   ]
  },
  {
   "cell_type": "code",
   "execution_count": null,
   "id": "9156dde2",
   "metadata": {},
   "outputs": [],
   "source": [
    "df[df['Primary_Pos']=='SP'][['Name', 'Pos', 'Primary_Pos', 'Pos_adj', 'Value', 'CBS', 'Dollars', 'surplus']].head(35)"
   ]
  },
  {
   "cell_type": "code",
   "execution_count": null,
   "id": "6878d4c9",
   "metadata": {},
   "outputs": [],
   "source": [
    "u = {'21846':{'SO':189, 'ERA':3.47, 'WHIP':1.19, 'W':9, 'SvH':0, 'playerid':'21846'}}\n",
    "u['21846']"
   ]
  },
  {
   "cell_type": "code",
   "execution_count": null,
   "id": "0919588d",
   "metadata": {},
   "outputs": [],
   "source": [
    "qry = text(\"UPDATE players2024 SET ERA=:ERA, WHIP=:WHIP, W=:W, SO=:SO, 'Sv+Hld'=:SvH WHERE playerid=:playerid\")"
   ]
  },
  {
   "cell_type": "code",
   "execution_count": null,
   "id": "c44aa5b6",
   "metadata": {},
   "outputs": [],
   "source": [
    "playerid = '21846'\n",
    "engine.connect().execute(qry, u[playerid])"
   ]
  },
  {
   "cell_type": "code",
   "execution_count": null,
   "id": "f257e2dd",
   "metadata": {},
   "outputs": [],
   "source": [
    "113/96*9\n",
    "10.59/9*161"
   ]
  },
  {
   "cell_type": "code",
   "execution_count": null,
   "id": "bf5ff21e",
   "metadata": {},
   "outputs": [],
   "source": [
    "orig_conv =  (tm_dollars/tm_players)*(tot_players/total_z_over_0)"
   ]
  },
  {
   "cell_type": "code",
   "execution_count": null,
   "id": "0de92fb4",
   "metadata": {},
   "outputs": [],
   "source": [
    "u[playerid]"
   ]
  },
  {
   "cell_type": "code",
   "execution_count": null,
   "id": "421a4dc6",
   "metadata": {},
   "outputs": [],
   "source": [
    "df[df['Keeper']==1][['Name', 'Owner', 'Paid', 'CBS', 'SO', 'Sv+Hld']]"
   ]
  },
  {
   "cell_type": "code",
   "execution_count": null,
   "id": "c4d939bf",
   "metadata": {},
   "outputs": [],
   "source": [
    "#['C', '2B', '3B', 'SS', 'OF', '1B', 'DH', 'SP', 'RP', 'P']\n",
    "fp.pos_adjust"
   ]
  },
  {
   "cell_type": "code",
   "execution_count": null,
   "id": "1e27d623",
   "metadata": {},
   "outputs": [],
   "source": [
    "df['surplus'] = df['Value'] - df['CBS']"
   ]
  },
  {
   "cell_type": "code",
   "execution_count": null,
   "id": "c03fe56b",
   "metadata": {},
   "outputs": [],
   "source": [
    "df"
   ]
  },
  {
   "cell_type": "code",
   "execution_count": null,
   "id": "5f563b34",
   "metadata": {},
   "outputs": [],
   "source": [
    "df[df['Primary_Pos']=='2B'][['Name', 'AB', 'H', 'BA', 'HR', 'R', 'RBI', 'SB', 'Pos', 'z', 'Dollars', 'CBS', 'Value', 'Pos_adj']].sort_values('surplus', ascending=False).head(25)"
   ]
  },
  {
   "cell_type": "code",
   "execution_count": null,
   "id": "4f6e22ca",
   "metadata": {},
   "outputs": [],
   "source": [
    "df[df['Name'].isin(['Nico Hoerner', 'Grayson Rodriguez', 'Justin Steele', 'Corey Seager', 'Josh Naylor', 'Jake Burger', 'Yainer Diaz'])][['Name', 'Pos', 'z', 'surplus', 'Dollars', 'CBS', 'Value', 'Pos_adj', 'AB', 'H', 'BA', 'HR', 'R', 'RBI', 'SB', 'W', 'SO', 'Sv+Hld', 'ERA', 'WHIP']].sort_values('surplus', ascending=False).head(25)"
   ]
  },
  {
   "cell_type": "code",
   "execution_count": null,
   "id": "b247fcb3",
   "metadata": {},
   "outputs": [],
   "source": [
    "#engine = create_engine('sqlite:///fantasy_data.db', echo=False)\n",
    "pd.read_sql('SELECT playerid, Name, Value, Dollars, CBS, Paid, Owner FROM players2024 WHERE Keeper=1', engine)"
   ]
  },
  {
   "cell_type": "code",
   "execution_count": null,
   "id": "2eec809f",
   "metadata": {},
   "outputs": [],
   "source": [
    "df[df['Name'].isin(['Jake Burger', 'Yainer Diaz'])][['BA', 'HR', 'R', 'RBI', 'SB', 'Name', 'Value', 'Dollars', 'CBS']]"
   ]
  },
  {
   "cell_type": "code",
   "execution_count": null,
   "id": "8e7ada82",
   "metadata": {},
   "outputs": [],
   "source": [
    "#keepers Google doc\n",
    "keepers_url = 'https://docs.google.com/spreadsheets/d/1dwDC2uMsfVRYeDECKLI0Mm_QonxkZvTkZTfBgnZo7-Q/edit#gid=1723951361'"
   ]
  },
  {
   "cell_type": "code",
   "execution_count": null,
   "id": "29269ca5",
   "metadata": {},
   "outputs": [],
   "source": [
    "ids = fp.load_id_map()"
   ]
  },
  {
   "cell_type": "code",
   "execution_count": null,
   "id": "3f9581b7",
   "metadata": {},
   "outputs": [],
   "source": [
    "# Set Previous Year\n",
    "prevYear = datetime.now().year-1"
   ]
  },
  {
   "cell_type": "code",
   "execution_count": null,
   "id": "607b907c",
   "metadata": {},
   "outputs": [],
   "source": [
    "df['Value-CBS'] = df['Value'] - df['CBS']"
   ]
  },
  {
   "cell_type": "code",
   "execution_count": null,
   "id": "23ffb992",
   "metadata": {},
   "outputs": [],
   "source": [
    "c = df[df['Name'].isna()].merge(ids[['IDFANGRAPHS', 'CBSNAME']], left_on='playerid', right_on='IDFANGRAPHS', how='inner')\n",
    "c['Name'].fillna(c['CBSNAME'],inplace=True)\n",
    "c.rename(columns={'Name':'new name'},inplace=True)\n",
    "df = df.merge(c[['playerid','new name']], on='playerid', how='left')\n",
    "df.Name.fillna(b['new name'],inplace=True)\n",
    "df.drop(columns='new name', inplace=True)\n",
    "df.Name.isna().sum()"
   ]
  },
  {
   "cell_type": "code",
   "execution_count": null,
   "id": "eae169db",
   "metadata": {},
   "outputs": [],
   "source": [
    "df[df['Primary_Pos'].isin(['2B'])].sort_values('Value-CBS', ascending=False).head(18)[['Name', 'z', 'Value-CBS', 'Value', 'CBS', 'Dollars', 'HR', 'SB', 'R', 'RBI', 'BA']].reset_index()"
   ]
  },
  {
   "cell_type": "code",
   "execution_count": null,
   "id": "6380f297",
   "metadata": {},
   "outputs": [],
   "source": [
    "fig = go.Figure()\n",
    "fig.add_trace(\n",
    "    go.Scatter(name='HR',\n",
    "        x = ['HR']*df[df['HR']>0].shape[0],\n",
    "        y = df[df['HR']>0]['HR'].sort_values(ascending=False),\n",
    "        mode='markers',\n",
    "    )\n",
    ")\n",
    "fig.add_trace(\n",
    "    go.Scatter(\n",
    "        name='SB',\n",
    "        x = ['SB']*df[df['SB']>0].shape[0],\n",
    "        y = df[df['SB']>0]['SB'].sort_values(ascending=False),\n",
    "        hovertext=df[df['SB']>0].sort_values('SB',ascending=False)['Name']+'<br>'+df[df['SB']>0].sort_values('SB',ascending=False)['Value'].astype(str),\n",
    "        mode='markers',\n",
    "    )\n",
    ")\n",
    "fig.show()"
   ]
  },
  {
   "cell_type": "code",
   "execution_count": null,
   "id": "c47e7c2b",
   "metadata": {},
   "outputs": [],
   "source": [
    "df"
   ]
  },
  {
   "cell_type": "code",
   "execution_count": null,
   "id": "aed812ee",
   "metadata": {},
   "outputs": [],
   "source": [
    "fig = px.violin(df[(df['z']>-1.5) & (df['Primary_Pos'].isin(['C', '1B', '2B', '3B', 'SS', 'OF', 'DH']))], y=[\"zHR\", 'zSB', 'zR', 'zRBI', 'zBA'])\n",
    "fig.show()"
   ]
  },
  {
   "cell_type": "code",
   "execution_count": null,
   "id": "7aac12b6",
   "metadata": {},
   "outputs": [],
   "source": [
    "fig = px.violin(df[(df['z']>-1.5) & (df['Primary_Pos'].isin(['P', 'SP', 'RP']))], y=[\"zERA\", 'zWHIP', 'zW', 'zSO', 'zSv+Hld'])\n",
    "fig.show()"
   ]
  },
  {
   "cell_type": "markdown",
   "id": "e0908963",
   "metadata": {},
   "source": [
    "### StatCast work"
   ]
  },
  {
   "cell_type": "code",
   "execution_count": null,
   "id": "4ead8493",
   "metadata": {},
   "outputs": [],
   "source": [
    "scb = pd.read_csv('data/2022-statcast-h.csv')\n",
    "scp = pd.read_csv('data/2022-statcast-p.csv')\n",
    "sc = pd.concat([scb,scp])"
   ]
  },
  {
   "cell_type": "code",
   "execution_count": null,
   "id": "b4dc127b",
   "metadata": {},
   "outputs": [],
   "source": [
    "from pybaseball import statcast_batter_exitvelo_barrels, statcast_batter_expected_stats, statcast_batter_percentile_ranks\n",
    "\n",
    "# get data for all qualified batters in 2023\n",
    "#d1 = statcast_batter_exitvelo_barrels(2023).set_index('player_id')\n",
    "#d2 = statcast_batter_expected_stats(2023).set_index('player_id')\n",
    "#d3 = statcast_batter_percentile_ranks(2023).set_index('player_id')\n",
    "data = d1.merge(d2.drop(columns=['last_name, first_name', 'year']), left_index=True, right_index=True, how='left')\\\n",
    "    .merge(d3, left_index=True, right_index=True, how='left')"
   ]
  },
  {
   "cell_type": "code",
   "execution_count": null,
   "id": "a12dd907",
   "metadata": {},
   "outputs": [],
   "source": [
    "data.head()"
   ]
  },
  {
   "cell_type": "markdown",
   "id": "dfa94efe",
   "metadata": {},
   "source": [
    "### Working with Drafted Players"
   ]
  },
  {
   "cell_type": "code",
   "execution_count": null,
   "id": "2fbea91e",
   "metadata": {},
   "outputs": [],
   "source": [
    "conv = (260/23)*((12*23)/600)\n",
    "fu.owners(conv)"
   ]
  },
  {
   "cell_type": "code",
   "execution_count": null,
   "id": "229b25b7",
   "metadata": {},
   "outputs": [],
   "source": [
    "df, owners_df = owners(conv)\n",
    "owners_df"
   ]
  },
  {
   "cell_type": "code",
   "execution_count": null,
   "id": "a306dbe2",
   "metadata": {},
   "outputs": [],
   "source": [
    "owners_df['Value'] = owners_df['z']*conv"
   ]
  },
  {
   "cell_type": "code",
   "execution_count": null,
   "id": "1e73bddb",
   "metadata": {},
   "outputs": [],
   "source": [
    "owner_list = ['Brewbirds', 'Charmer', 'Dirty Birds', 'Harvey', 'Lil Trump', 'Lima Time', 'Midnight', 'Ugly Spuds', 'Roid Ragers', 'Trouble', 'Wu-Tang', 'Young Guns']\n",
    "roster = pd.DataFrame(index=['C', '1B', '2B', '3B', 'SS', 'MI', 'CI', 'OF1', 'OF2', 'OF3', 'OF4', 'OF5', 'DH1', 'DH2', 'P1', 'P2', 'P3', 'P4', 'P5', 'P6', 'P7', 'P8', 'P9'], data=np.zeros((23,12)), columns=owner_list)"
   ]
  },
  {
   "cell_type": "code",
   "execution_count": null,
   "id": "ce72839d",
   "metadata": {},
   "outputs": [],
   "source": [
    "owner_list = ['Brewbirds', 'Charmer', 'Dirty Birds', 'Harvey', 'Lil Trump', 'Lima Time', 'Midnight', 'Ugly Spuds', 'Roid Ragers', 'Trouble', 'Wu-Tang', 'Young Guns']\n",
    "roster = pd.DataFrame(index=['C', '1B', '2B', '3B', 'SS', 'MI', 'CI', 'OF1', 'OF2', 'OF3', 'OF4', 'OF5', 'DH1', 'DH2', 'P1', 'P2', 'P3', 'P4', 'P5', 'P6', 'P7', 'P8', 'P9'], data=np.zeros((23,12)), columns=owner_list)\n",
    "for tm in owners_df.Owner.to_list():\n",
    "    for i, row in df[df['Owner']==tm][['Name', 'Owner', 'Primary_Pos', 'Pos', 'Timestamp']].sort_values(\"Timestamp\").iterrows():\n",
    "        if df.loc[i]['Paid'] > 0:\n",
    "            check_roster_pos(roster, df.loc[i]['Name'], df.loc[i]['Owner'], df.loc[i]['Primary_Pos'], df.loc[i]['Pos'])"
   ]
  },
  {
   "cell_type": "code",
   "execution_count": null,
   "id": "e602cf68",
   "metadata": {},
   "outputs": [],
   "source": [
    "roster"
   ]
  },
  {
   "cell_type": "code",
   "execution_count": null,
   "id": "92dcd59d",
   "metadata": {},
   "outputs": [],
   "source": [
    "def positional_histogram(b):\n",
    "    fig = go.Figure()\n",
    "    fig.add_trace(go.Histogram(name='3B', x=b[b['Pos'].str.contains('3B')].sort_values('Value', ascending=False).drop_duplicates('playerid').head(300)['z'], \n",
    "                           nbinsx=10, opacity=.5))\n",
    "    fig.add_trace(go.Histogram(name='1B', x=b[b['Pos'].str.contains('1B')].sort_values('Value', ascending=False).drop_duplicates('playerid').head(300)['z'], \n",
    "                           nbinsx=10, opacity=.5))\n",
    "    fig.add_trace(go.Histogram(name='2B', x=b[b['Pos'].str.contains('2B')].sort_values('Value', ascending=False).drop_duplicates('playerid').head(300)['z'], \n",
    "                           nbinsx=10, opacity=.5))\n",
    "    fig.add_trace(go.Histogram(name='SS', x=b[b['Pos'].str.contains('SS')].sort_values('Value', ascending=False).drop_duplicates('playerid').head(300)['z'], \n",
    "                           nbinsx=10, opacity=.5))\n",
    "\n",
    "    fig.update_layout(title='Z score distribution by position', barmode='overlay', bargap=.1, yaxis_range=[0,55])\n",
    "    return fig.show()"
   ]
  },
  {
   "cell_type": "code",
   "execution_count": null,
   "id": "5fd14eb5",
   "metadata": {},
   "outputs": [],
   "source": [
    "positional_histogram(df)"
   ]
  },
  {
   "cell_type": "markdown",
   "id": "206b64ff",
   "metadata": {},
   "source": [
    "#### Next Closest in Tier"
   ]
  },
  {
   "cell_type": "code",
   "execution_count": null,
   "id": "1897df73",
   "metadata": {},
   "outputs": [],
   "source": [
    "tier_pos = df[df['Name']=='Freddie Freeman']['Primary_Pos'].iloc[0]\n",
    "drop_in_tier = round(df[(df['Primary_Pos']==tier_pos) & (df['Owner'].isna())].iloc[1]['Value'] - df[(df['Primary_Pos']==tier_pos) & (df['Owner'].isna())].iloc[0]['Value'],1)\n",
    "print(drop_in_tier)\n",
    "df[(df['Primary_Pos']==tier_pos) & (df['Owner'].isna())].iloc[:6][['Name', 'Pos', 'z', 'Value', 'HR', 'SB', 'RBI', 'R', 'BA']]"
   ]
  },
  {
   "cell_type": "code",
   "execution_count": null,
   "id": "ab8eff4c",
   "metadata": {},
   "outputs": [],
   "source": [
    "i = df[(df['Primary_Pos']=='SS') & (df['playerid']=='18314') & (df['Owner'].isna())].index[0]\n",
    "v = df[(df['Primary_Pos']=='SS') & (df['Owner'].isna()) & (df['playerid']=='18314')]['Value'].iloc[0]\n",
    "df[(df['Primary_Pos']=='SS') & (df['Owner'].isna()) & (df['Value']<=v)].iloc[1]['Value']"
   ]
  },
  {
   "cell_type": "code",
   "execution_count": null,
   "id": "21b4d27d",
   "metadata": {},
   "outputs": [],
   "source": [
    "df['next_in_tier'] = df.apply(lambda x: next_closest_in_tier(df, x['Primary_Pos'], x['playerid']),axis=1)"
   ]
  },
  {
   "cell_type": "code",
   "execution_count": null,
   "id": "b4651bea",
   "metadata": {},
   "outputs": [],
   "source": [
    "df[(df['Primary_Pos']==tier_pos) & (df['z']>0)]['Value'].hist()"
   ]
  },
  {
   "cell_type": "markdown",
   "id": "07379319",
   "metadata": {},
   "source": [
    "## ------ End of New Work"
   ]
  },
  {
   "cell_type": "code",
   "execution_count": null,
   "id": "02d359df",
   "metadata": {},
   "outputs": [],
   "source": [
    "from sklearn.preprocessing import MinMaxScaler\n",
    "from scipy.stats.stats import pearsonr\n",
    "def scale_data(df, cols):\n",
    "    \"\"\"\n",
    "    INPUT: \n",
    "        df: original dataframe\n",
    "        list: subset of columns to scale\n",
    "    OUTPUT:\n",
    "        df: scaled data\n",
    "    \"\"\"\n",
    "    scaler = MinMaxScaler()\n",
    "    scaler.fit(df[cols])\n",
    "    scaled_df = scaler.transform(df[cols])\n",
    "    scaled_df = pd.DataFrame(scaled_df, index=df.index)\n",
    "    scaled_df.columns=[df[cols].columns.tolist()]\n",
    "    return scaled_df"
   ]
  },
  {
   "cell_type": "code",
   "execution_count": null,
   "id": "81577d29",
   "metadata": {},
   "outputs": [],
   "source": [
    "cols = ['BA', 'R', 'RBI', 'HR', 'SB']\n",
    "scaled_df = scale_data(df[df['Owner'].isna()].set_index('playerid'), cols)\n",
    "scaled_df.loc['11737', cols]"
   ]
  },
  {
   "cell_type": "code",
   "execution_count": null,
   "id": "7a6419af",
   "metadata": {},
   "outputs": [],
   "source": [
    "def add_distance_metrics(h, player_id, col_list):\n",
    "    scaled_df = scale_data(h[h['Owner'].isna()].set_index('playerid'), col_list)\n",
    "    df2 = h[h['Owner'].isna()].loc[:,['playerid', 'Name', 'Pos', 'z']+col_list].set_index('playerid')\n",
    "    for j, row in scaled_df.iterrows():\n",
    "        #df2.at[j,'corr'] = pearsonr(scaled_df.loc[player_id,col_list],row[col_list])[0]\n",
    "        df2.at[j,'eucl_dist'] = np.linalg.norm(scaled_df.loc[player_id,col_list] - row[col_list])\n",
    "        #df2.at[j,'manh_dist']= sum(abs(e - s) for s, e in zip(scaled_df.loc[player_id,col_list], row[col_list]))\n",
    "    return df2.sort_values('eucl_dist').iloc[1:6]"
   ]
  },
  {
   "cell_type": "code",
   "execution_count": null,
   "id": "526fe73e",
   "metadata": {},
   "outputs": [],
   "source": [
    "add_distance_metrics(df, '9218', cols)"
   ]
  },
  {
   "cell_type": "code",
   "execution_count": null,
   "id": "60ff9c8f",
   "metadata": {},
   "outputs": [],
   "source": [
    "mask = (df['Pos'].str.contains('C')) & (df['Owner'].isna())\n",
    "df[mask][['Name', 'z', 'Dollars', 'HR', 'R', 'RBI', 'SB', 'BA']].sort_values('z', ascending=False).head(10)"
   ]
  },
  {
   "cell_type": "code",
   "execution_count": null,
   "id": "244f6fd6",
   "metadata": {},
   "outputs": [],
   "source": [
    "# (Tm 1 $/plyr left / Tm 2 $/plyr left) * suggested price = equivalent comfort level\n",
    "pp = 5\n",
    "f'If the price is {pp}, Tm 1 can afford to pay up to {round((10.125 / 6.9) * pp,1)} at the same comfort level as Tm 2'"
   ]
  },
  {
   "cell_type": "code",
   "execution_count": null,
   "id": "34b42ec4",
   "metadata": {},
   "outputs": [],
   "source": [
    "fig = go.Figure()\n",
    "fig.add_trace(go.Scatter(\n",
    "    x=df['Dollars'],\n",
    "    y=df['Value'],\n",
    "    mode='markers',\n",
    "    text=df['Name']\n",
    ")\n",
    ")\n",
    "fig.show()"
   ]
  },
  {
   "cell_type": "markdown",
   "id": "1e01dc35",
   "metadata": {},
   "source": [
    "### Fixing 2022 Draft in sqlite db"
   ]
  },
  {
   "cell_type": "code",
   "execution_count": null,
   "id": "61427e48",
   "metadata": {},
   "outputs": [],
   "source": [
    "url = 'https://xdl.baseball.cbssports.com/draft/results/2022:Pre-season:XDL%20Draft'"
   ]
  },
  {
   "cell_type": "code",
   "execution_count": null,
   "id": "dada13a2",
   "metadata": {},
   "outputs": [],
   "source": [
    "df = pd.read_sql('players', engine)\n",
    "df.Owner.unique()"
   ]
  },
  {
   "cell_type": "code",
   "execution_count": null,
   "id": "fae09759",
   "metadata": {},
   "outputs": [],
   "source": [
    "pd.read_sql('players2022', engine).Owner.value_counts()"
   ]
  },
  {
   "cell_type": "code",
   "execution_count": null,
   "id": "00c502e8",
   "metadata": {
    "scrolled": false
   },
   "outputs": [],
   "source": [
    "tm = 'Lima Time'\n",
    "df = pd.read_sql('players', engine)\n",
    "print(df[df['Owner']==tm][['playerid', 'Name', 'Paid']].shape[0])\n",
    "df[df['Owner']==tm][['playerid', 'Name', 'Paid', 'Value']].sort_values('Paid',ascending=False)"
   ]
  },
  {
   "cell_type": "code",
   "execution_count": null,
   "id": "e648256d",
   "metadata": {},
   "outputs": [],
   "source": []
  },
  {
   "cell_type": "code",
   "execution_count": null,
   "id": "d249225d",
   "metadata": {},
   "outputs": [],
   "source": [
    "#player_projections = pd.read_sql(\"SELECT * FROM players2024\", engine)\n",
    "player_projections = pd.read_excel(\"C:\\\\Users\\\\pddnh\\\\Documents\\\\GitHub\\\\xdl\\\\data\\\\PlayerProjections2024.xlsx\")\n",
    "player_projections.rename(columns={'SV':'SV+HLD'},inplace=True)"
   ]
  },
  {
   "cell_type": "code",
   "execution_count": null,
   "id": "6384c32f",
   "metadata": {},
   "outputs": [],
   "source": [
    "hitters = player_projections[~player_projections['Position'].isin(['SP', 'RP', 'P'])]\n",
    "pitchers = player_projections[player_projections['Position'].isin(['SP', 'RP', 'P'])]"
   ]
  },
  {
   "cell_type": "code",
   "execution_count": null,
   "id": "eb7c1522",
   "metadata": {},
   "outputs": [],
   "source": [
    "replacement_stats = {'HR': 10, 'RBI': 50, 'SB': 5, 'AVG': .250, 'R': 50, 'W': 8, 'K': 140, 'ERA': 4.25, 'WHIP': 1.35, 'SV+HLD': 6}\n",
    "\n",
    "# Assuming player_projections is your DataFrame with player stats\n",
    "\n",
    "# Step 1: Calculate mean and standard deviation for each stat\n",
    "stats = ['HR', 'RBI', 'SB', 'AVG', 'R', 'W', 'K', 'ERA', 'WHIP', 'SV+HLD']\n",
    "for stat in stats:\n",
    "    player_projections[f'{stat}_mean'] = player_projections[stat].mean()\n",
    "    player_projections[f'{stat}_std'] = player_projections[stat].std()\n",
    "\n",
    "# Step 2: Calculate Z-Scores for each stat\n",
    "for stat in stats:\n",
    "    if stat in ['ERA', 'WHIP']:  # Inverse stats where lower is better\n",
    "        player_projections[f'Z_{stat}'] = (player_projections[f'{stat}_mean'] - player_projections[stat]) / player_projections[f'{stat}_std']\n",
    "    else:\n",
    "        player_projections[f'Z_{stat}'] = (player_projections[stat] - player_projections[f'{stat}_mean']) / player_projections[f'{stat}_std']\n",
    "\n",
    "# Step 3: Sum Z-Scores for a Total Value Score\n",
    "player_projections['Total_Z'] = player_projections[[f'Z_{stat}' for stat in stats]].sum(axis=1)\n",
    "\n",
    "# Convert Total_Z to auction values, similar to previous methodology\n",
    "total_z_pool = player_projections[player_projections['Total_Z']>0]['Total_Z'].sum()\n",
    "player_projections['Auction_Value'] = (player_projections['Total_Z'] / total_z_pool) * (260 * 12)\n"
   ]
  },
  {
   "cell_type": "code",
   "execution_count": null,
   "id": "345b7f37",
   "metadata": {},
   "outputs": [],
   "source": [
    "total_z_pool"
   ]
  },
  {
   "cell_type": "code",
   "execution_count": null,
   "id": "c95a49d9",
   "metadata": {},
   "outputs": [],
   "source": [
    "player_projections.head()"
   ]
  },
  {
   "cell_type": "code",
   "execution_count": null,
   "id": "9314fea3",
   "metadata": {},
   "outputs": [],
   "source": [
    "player_projections[player_projections['Position']=='SP'].head()"
   ]
  },
  {
   "cell_type": "code",
   "execution_count": null,
   "id": "c0eaf4e7",
   "metadata": {},
   "outputs": [],
   "source": [
    "# Update replacement level stats to include pitchers\n",
    "replacement_stats = {'HR': 10, 'RBI': 50, 'SB': 5, 'AVG': .250, 'R': 50, 'W': 8, 'K': 150, 'ERA': 4.25, 'WHIP': 1.35, 'SV+HLD': 12}\n",
    "\n",
    "# Separate the dataframe into hitters and pitchers based on your league's position designations\n",
    "hitters = player_projections[~player_projections['Position'].isin(['SP', 'RP', 'P'])]\n",
    "pitchers = player_projections[player_projections['Position'].isin(['SP', 'RP', 'P'])]\n",
    "\n",
    "# Total budget for hitters across all teams\n",
    "total_budget_for_hitters = 260 * 12 * 0.7\n",
    "total_budget_for_pitchers = 260 * 12 * 0.3\n",
    "\n",
    "# Calculate VORP for hitters\n",
    "for stat in replacement_stats_hitters.keys():\n",
    "    hitters[f'VORP_{stat}'] = hitters[stat] - replacement_stats_hitters[stat] if stat != 'AVG' else replacement_stats_hitters[stat] - hitters[stat]\n",
    "hitters['Total_VORP'] = hitters[[f'VORP_{stat}' for stat in replacement_stats_hitters.keys()]].sum(axis=1)\n",
    "\n",
    "# Calculate VORP for pitchers (handling ERA and WHIP inversely)\n",
    "for stat in replacement_stats_pitchers.keys():\n",
    "    pitchers[f'VORP_{stat}'] = pitchers[stat] - replacement_stats_pitchers[stat] if stat not in ['ERA', 'WHIP'] else replacement_stats_pitchers[stat] - pitchers[stat]\n",
    "pitchers['Total_VORP'] = pitchers[[f'VORP_{stat}' for stat in replacement_stats_pitchers.keys()]].sum(axis=1)\n",
    "\n",
    "# Combine hitters and pitchers back into one dataframe\n",
    "player_projections_updated = pd.concat([hitters, pitchers])\n",
    "\n",
    "# Recalculate the total VORP pool for hitters and pitchers separately\n",
    "total_vorp_pool_hitters = hitters[hitters['Total_VORP']>=0]['Total_VORP'].sum()\n",
    "total_vorp_pool_pitchers = pitchers[pitchers['Total_VORP']>=0]['Total_VORP'].sum()\n",
    "\n",
    "# Calculate the auction dollar value for each player based on their share of the total VORP and the designated budget\n",
    "hitters['Auction_Value'] = (hitters['Total_VORP'] / total_vorp_pool_hitters) * total_budget_for_hitters\n",
    "pitchers['Auction_Value'] = (pitchers['Total_VORP'] / total_vorp_pool_pitchers) * total_budget_for_pitchers\n",
    "\n",
    "# Combine hitters and pitchers back for the final dataframe\n",
    "player_projections_final = pd.concat([hitters, pitchers])\n",
    "\n",
    "# Display the updated DataFrame with the Auction_Value column for the top players\n",
    "player_projections_final[['Player', 'Position', 'Total_VORP', 'Auction_Value']].head()\n"
   ]
  },
  {
   "cell_type": "code",
   "execution_count": null,
   "id": "8d42734d",
   "metadata": {},
   "outputs": [],
   "source": []
  },
  {
   "cell_type": "code",
   "execution_count": null,
   "id": "36260aeb",
   "metadata": {},
   "outputs": [],
   "source": [
    "# For simplicity, let's calculate VORP based on a simplified model focusing on HR, RBI, SB, AVG, and R for the top players\n",
    "# Assuming replacement level stats for a generic position player: 10 HR, 50 RBI, 5 SB, .250 AVG, 50 R\n",
    "\n",
    "# Example replacement level stats\n",
    "replacement_stats = {'HR': 10, 'RBI': 50, 'SB': 5, 'AVG': .250, 'R': 50}\n",
    "\n",
    "# Calculate VORP for each category\n",
    "for stat in replacement_stats.keys():\n",
    "    player_projections[f'VORP_{stat}'] = player_projections[stat] - replacement_stats[stat]\n",
    "\n",
    "# Sum the VORP across the selected categories to get a total VORP (this is a simplification for demonstration)\n",
    "player_projections['Total_VORP'] = player_projections[[f'VORP_{stat}' for stat in replacement_stats.keys()]].sum(axis=1)\n",
    "\n",
    "# Total budget for hitters across all teams\n",
    "total_budget_for_hitters = 260 * 12 * 0.7\n",
    "total_budget_for_pitchers = 260 * 12 * 0.3\n",
    "\n",
    "# Calculate the total VORP pool for the players in our subset\n",
    "total_vorp_pool = player_projections['Total_VORP'].sum()\n",
    "#total_vorp_pool = player_projections[(player_projections['Total_VORP']>=0)]['Total_VORP'].sum()\n",
    "\n",
    "# Calculate the auction dollar value for each player based on their share of the total VORP\n",
    "player_projections['Auction_Value'] = (player_projections['Total_VORP'] / total_vorp_pool) * total_budget_for_hitters\n",
    "\n",
    "# Display the updated DataFrame with the Auction_Value column for the top players\n",
    "player_projections[['Player', 'Position', 'Total_VORP', 'Auction_Value']].head()\n",
    "hitters = player_projections[~player_projections['Position'].isin(['SP', 'RP', 'P'])]"
   ]
  },
  {
   "cell_type": "code",
   "execution_count": null,
   "id": "4124f0b7",
   "metadata": {},
   "outputs": [],
   "source": [
    "def check_roster_pos(roster, name, team_name, pos, eligible):\n",
    "    eligible_at = eligible.split('/')\n",
    "    print(pos)\n",
    "    eligibility = []\n",
    "    for p in eligible.split('/'):\n",
    "        if p=='C':\n",
    "            eligibility.extend(['C'])\n",
    "        if p=='1B':\n",
    "            eligibility.extend(['1B', 'CI'])\n",
    "        if p=='2B':\n",
    "            eligibility.extend(['2B', 'MI'])\n",
    "        if p=='3B':\n",
    "            eligibility.extend(['3B', 'CI'])\n",
    "        if p=='SS':\n",
    "            eligibility.extend(['SS', 'MI'])\n",
    "        if p=='OF':\n",
    "            eligibility.extend(['OF1', 'OF2', 'OF3', 'OF4', 'OF5'])\n",
    "        if p in ['SP', 'RP', 'P']:\n",
    "            eligibility.extend(['P1', 'P2', 'P3', 'P4', 'P5', 'P6', 'P7', 'P8', 'P9'])\n",
    "        if p in ['B1', 'B2', 'B3', 'B4', 'B5', 'B6', 'B7', 'B8', 'B9', 'B10']:\n",
    "            eligibility.extend([p])\n",
    "    \n",
    "    print(eligibility)\n",
    "    eligibility = list(dict.fromkeys(eligibility))\n",
    "    if 'SP' in eligible_at or 'RP' in eligible_at: \n",
    "        pos_list = eligibility\n",
    "    else:\n",
    "        pos_list = eligibility+['DH1', 'DH2']\n",
    "    for p in pos_list:\n",
    "        if roster.loc[p, team_name]==0:\n",
    "            roster.loc[p, team_name] = name\n",
    "            return p\n",
    "    \n",
    "    return pos_list"
   ]
  },
  {
   "cell_type": "code",
   "execution_count": null,
   "id": "60b52ac2",
   "metadata": {},
   "outputs": [],
   "source": [
    "n_teams = 12\n",
    "owner_list = ['Brewbirds', 'Charmer', 'Dirty Birds', 'Harvey', 'Lima Time', \"Madness\", 'Mother', 'Roid Ragers', 'Trouble', 'Ugly Spuds', 'Wu-Tang', 'Young Guns']\n",
    "roster = pd.DataFrame(index=['C', '1B', '2B', '3B', 'SS', 'MI', 'CI', 'OF1', 'OF2', 'OF3', 'OF4', 'OF5', 'DH1', 'DH2', 'P1', 'P2', 'P3', 'P4', 'P5', 'P6', 'P7', 'P8', 'P9', 'B1', 'B2', 'B3', 'B4', 'B5', 'B6', 'B7', 'B8', 'B9', 'B10'], data=np.zeros((33,n_teams)), columns=owner_list)"
   ]
  },
  {
   "cell_type": "code",
   "execution_count": null,
   "id": "e7e66b80",
   "metadata": {},
   "outputs": [],
   "source": [
    "roster"
   ]
  },
  {
   "cell_type": "code",
   "execution_count": null,
   "id": "a23464b1",
   "metadata": {},
   "outputs": [],
   "source": [
    "check_roster_pos(roster, 'Justin Steele', 'Lima Time', 'B'+str(int(h[h['Name']=='Justin Steele']['Supp'].iloc[0])), 'B'+str(int(h[h['Name']=='Justin Steele']['Supp'].iloc[0])))"
   ]
  },
  {
   "cell_type": "code",
   "execution_count": null,
   "id": "0e552d76",
   "metadata": {},
   "outputs": [],
   "source": [
    "h = pd.read_sql('players'+str(datetime.now().year), engine)\n",
    "owners_df = h.query('Paid>0').groupby('Owner').agg({'Name':'count', 'Paid':'sum', 'z':'sum', 'H':'sum', 'AB':'sum', 'HR':'sum', 'R':'sum', 'RBI':'sum', 'SB':'sum', 'Outs':'sum', 'W':'sum', 'SO':'sum', 'Sv+Hld':'sum', 'ER':'sum', 'IP':'sum', 'BB':'sum', 'HA':'sum'}).reset_index()"
   ]
  },
  {
   "cell_type": "code",
   "execution_count": null,
   "id": "aa357aaf",
   "metadata": {},
   "outputs": [],
   "source": [
    "h[h['Supp'].notna()][['Name', 'Owner', 'Paid', 'Supp']]"
   ]
  },
  {
   "cell_type": "code",
   "execution_count": null,
   "id": "778cefc2",
   "metadata": {},
   "outputs": [],
   "source": []
  },
  {
   "cell_type": "code",
   "execution_count": 23,
   "id": "905a0f68",
   "metadata": {},
   "outputs": [],
   "source": [
    "df = pd.read_sql(\"SELECT * FROM players2024 WHERE Owner IS NOT NULL\", engine)"
   ]
  },
  {
   "cell_type": "code",
   "execution_count": 24,
   "id": "8e991c28",
   "metadata": {},
   "outputs": [
    {
     "data": {
      "text/plain": [
       "Owner\n",
       "Brewbirds      33\n",
       "Charmer        33\n",
       "Dirty Birds    33\n",
       "Harvey         33\n",
       "Lima Time      33\n",
       "Madness        33\n",
       "Mother         33\n",
       "Roid Ragers    33\n",
       "Trouble        33\n",
       "Ugly Spuds     33\n",
       "Wu-Tang        33\n",
       "Young Guns     33\n",
       "Name: playerid, dtype: int64"
      ]
     },
     "execution_count": 24,
     "metadata": {},
     "output_type": "execute_result"
    }
   ],
   "source": [
    "df.groupby('Owner')['playerid'].count()"
   ]
  },
  {
   "cell_type": "code",
   "execution_count": null,
   "id": "1467cea0",
   "metadata": {},
   "outputs": [],
   "source": [
    "df = pd.read_csv(\"data/2024-dc-proj-p.csv\")\n",
    "df.rename(columns={'PlayerId':'playerid'}, inplace=True)\n",
    "df.loc[184, 'Pos'] = 'SP'\n",
    "df.loc[190, 'Pos'] = 'SP'\n",
    "df.loc[413, 'Pos'] = 'RP'\n",
    "df.loc[779, 'Pos'] = 'SP'\n",
    "df.loc[184, 'Primary_Pos'] = 'SP'\n",
    "df.loc[190, 'Primary_Pos'] = 'SP'\n",
    "df.loc[413, 'Primary_Pos'] = 'RP'\n",
    "df.loc[779, 'Primary_Pos'] = 'SP'"
   ]
  },
  {
   "cell_type": "code",
   "execution_count": 3,
   "id": "be0d5e12",
   "metadata": {},
   "outputs": [],
   "source": [
    "df = pd.read_sql(\"SELECT * FROM players2024\", engine)"
   ]
  },
  {
   "cell_type": "code",
   "execution_count": null,
   "id": "0e80a754",
   "metadata": {},
   "outputs": [],
   "source": [
    "df.loc[1183, 'CBSNAME'] = 'Tink Hence'\n",
    "df.loc[576, 'CBSNAME'] = 'Aldenis Sanchez'\n",
    "df.loc[655, 'Owner'] = 'Lima Time'\n",
    "df.loc[772, 'Owner'] = 'Young Guns'\n",
    "df.loc[576, 'Owner'] = 'Madness'\n",
    "df.loc[1183, 'Owner'] = 'Dirty Birds'\n",
    "df.loc[1194, 'Owner'] = 'Wu-Tang'\n",
    "df.loc[1196, 'Owner'] = 'Ugly Spuds'"
   ]
  },
  {
   "cell_type": "code",
   "execution_count": 4,
   "id": "5f83d361",
   "metadata": {},
   "outputs": [
    {
     "data": {
      "text/html": [
       "<div>\n",
       "<style scoped>\n",
       "    .dataframe tbody tr th:only-of-type {\n",
       "        vertical-align: middle;\n",
       "    }\n",
       "\n",
       "    .dataframe tbody tr th {\n",
       "        vertical-align: top;\n",
       "    }\n",
       "\n",
       "    .dataframe thead th {\n",
       "        text-align: right;\n",
       "    }\n",
       "</style>\n",
       "<table border=\"1\" class=\"dataframe\">\n",
       "  <thead>\n",
       "    <tr style=\"text-align: right;\">\n",
       "      <th></th>\n",
       "      <th>Name</th>\n",
       "      <th>playerid</th>\n",
       "      <th>Owner</th>\n",
       "    </tr>\n",
       "  </thead>\n",
       "  <tbody>\n",
       "    <tr>\n",
       "      <th>1196</th>\n",
       "      <td>Devin Williams</td>\n",
       "      <td>15816</td>\n",
       "      <td>None</td>\n",
       "    </tr>\n",
       "    <tr>\n",
       "      <th>1197</th>\n",
       "      <td>Jacob deGrom</td>\n",
       "      <td>10954</td>\n",
       "      <td>Lima Time</td>\n",
       "    </tr>\n",
       "    <tr>\n",
       "      <th>1198</th>\n",
       "      <td>Paul Skenes</td>\n",
       "      <td>sa3023079</td>\n",
       "      <td>Ugly Spuds</td>\n",
       "    </tr>\n",
       "    <tr>\n",
       "      <th>1199</th>\n",
       "      <td>Jacob Misiorowski</td>\n",
       "      <td>sa3020644</td>\n",
       "      <td>Wu-Tang</td>\n",
       "    </tr>\n",
       "    <tr>\n",
       "      <th>1200</th>\n",
       "      <td>Tink Hence</td>\n",
       "      <td>sa3014709</td>\n",
       "      <td>Dirty Birds</td>\n",
       "    </tr>\n",
       "    <tr>\n",
       "      <th>1201</th>\n",
       "      <td>Aldenis Sanchez</td>\n",
       "      <td>sa3003222</td>\n",
       "      <td>Madness</td>\n",
       "    </tr>\n",
       "  </tbody>\n",
       "</table>\n",
       "</div>"
      ],
      "text/plain": [
       "                   Name   playerid        Owner\n",
       "1196     Devin Williams      15816         None\n",
       "1197       Jacob deGrom      10954    Lima Time\n",
       "1198        Paul Skenes  sa3023079   Ugly Spuds\n",
       "1199  Jacob Misiorowski  sa3020644      Wu-Tang\n",
       "1200         Tink Hence  sa3014709  Dirty Birds\n",
       "1201    Aldenis Sanchez  sa3003222      Madness"
      ]
     },
     "execution_count": 4,
     "metadata": {},
     "output_type": "execute_result"
    }
   ],
   "source": [
    "df[df['Name'].isin(['Jacob deGrom', 'Jacob Misiorowski', 'Paul Skenes', 'Devin Williams', 'Tink Hence', 'Aldenis Sanchez'])][['Name', 'playerid', 'Owner']]"
   ]
  },
  {
   "cell_type": "code",
   "execution_count": 5,
   "id": "98921be5",
   "metadata": {},
   "outputs": [],
   "source": [
    "from sqlalchemy.sql.sqltypes import DATETIME, TIMESTAMP\n",
    "players = Table('players'+str(datetime.now().year), meta,\n",
    "                Column('playerid', String, primary_key=True),\n",
    "                Column('Paid', Integer),\n",
    "                Column('Supp', Integer),\n",
    "                Column('Owner', String(25)),\n",
    "                Column('Timestamp', DATETIME)\n",
    "    )\n"
   ]
  },
  {
   "cell_type": "code",
   "execution_count": 21,
   "id": "cc342b72",
   "metadata": {},
   "outputs": [],
   "source": [
    "conn = engine.connect()\n",
    "meta.create_all(engine)\n",
    "price=1\n",
    "supp=0\n",
    "owner='Wu-Tang'\n",
    "playerid='sa3020644'\n",
    "conn.execute(players.update().values(Paid=price, Supp=supp, Owner=owner, Timestamp=datetime.now()).where(players.c.playerid==playerid))\n",
    "conn.commit()\n",
    "conn.close()"
   ]
  },
  {
   "cell_type": "code",
   "execution_count": 11,
   "id": "3dee65ae",
   "metadata": {},
   "outputs": [],
   "source": [
    "with engine.connect() as conn:\n",
    "    conn.execute(text(\"UPDATE players2024 SET Owner=NULL WHERE playerid='10954'\"))"
   ]
  },
  {
   "cell_type": "code",
   "execution_count": 25,
   "id": "689801f4",
   "metadata": {},
   "outputs": [
    {
     "data": {
      "text/html": [
       "<div>\n",
       "<style scoped>\n",
       "    .dataframe tbody tr th:only-of-type {\n",
       "        vertical-align: middle;\n",
       "    }\n",
       "\n",
       "    .dataframe tbody tr th {\n",
       "        vertical-align: top;\n",
       "    }\n",
       "\n",
       "    .dataframe thead th {\n",
       "        text-align: right;\n",
       "    }\n",
       "</style>\n",
       "<table border=\"1\" class=\"dataframe\">\n",
       "  <thead>\n",
       "    <tr style=\"text-align: right;\">\n",
       "      <th></th>\n",
       "      <th>playerid</th>\n",
       "      <th>Name</th>\n",
       "      <th>Owner</th>\n",
       "      <th>Team</th>\n",
       "      <th>Pos</th>\n",
       "      <th>Supp</th>\n",
       "      <th>Paid</th>\n",
       "      <th>z</th>\n",
       "      <th>Value</th>\n",
       "    </tr>\n",
       "  </thead>\n",
       "  <tbody>\n",
       "    <tr>\n",
       "      <th>0</th>\n",
       "      <td>15816</td>\n",
       "      <td>Devin Williams</td>\n",
       "      <td>Young Guns</td>\n",
       "      <td>MIL</td>\n",
       "      <td>RP</td>\n",
       "      <td>0.0</td>\n",
       "      <td>7</td>\n",
       "      <td>0.229674</td>\n",
       "      <td>1.145135</td>\n",
       "    </tr>\n",
       "    <tr>\n",
       "      <th>1</th>\n",
       "      <td>10954</td>\n",
       "      <td>Jacob deGrom</td>\n",
       "      <td>Lima Time</td>\n",
       "      <td>TEX</td>\n",
       "      <td>SP</td>\n",
       "      <td>9.0</td>\n",
       "      <td>0</td>\n",
       "      <td>-1.542827</td>\n",
       "      <td>-7.692403</td>\n",
       "    </tr>\n",
       "    <tr>\n",
       "      <th>2</th>\n",
       "      <td>sa3023079</td>\n",
       "      <td>Paul Skenes</td>\n",
       "      <td>Ugly Spuds</td>\n",
       "      <td>PIT</td>\n",
       "      <td>SP</td>\n",
       "      <td>1.0</td>\n",
       "      <td>0</td>\n",
       "      <td>-2.110175</td>\n",
       "      <td>-10.521155</td>\n",
       "    </tr>\n",
       "    <tr>\n",
       "      <th>3</th>\n",
       "      <td>sa3020644</td>\n",
       "      <td>Jacob Misiorowski</td>\n",
       "      <td>Wu-Tang</td>\n",
       "      <td>MIL</td>\n",
       "      <td>SP</td>\n",
       "      <td>0.0</td>\n",
       "      <td>1</td>\n",
       "      <td>-2.970617</td>\n",
       "      <td>-14.811243</td>\n",
       "    </tr>\n",
       "    <tr>\n",
       "      <th>4</th>\n",
       "      <td>sa3014709</td>\n",
       "      <td>Tink Hence</td>\n",
       "      <td>Dirty Birds</td>\n",
       "      <td>STL</td>\n",
       "      <td>SP</td>\n",
       "      <td>10.0</td>\n",
       "      <td>0</td>\n",
       "      <td>-3.363050</td>\n",
       "      <td>-16.767885</td>\n",
       "    </tr>\n",
       "    <tr>\n",
       "      <th>5</th>\n",
       "      <td>sa3003222</td>\n",
       "      <td>Aldenis Sanchez</td>\n",
       "      <td>Madness</td>\n",
       "      <td>None</td>\n",
       "      <td>OF</td>\n",
       "      <td>0.0</td>\n",
       "      <td>1</td>\n",
       "      <td>-8.011463</td>\n",
       "      <td>-39.944476</td>\n",
       "    </tr>\n",
       "  </tbody>\n",
       "</table>\n",
       "</div>"
      ],
      "text/plain": [
       "    playerid               Name        Owner  Team Pos  Supp  Paid         z  \\\n",
       "0      15816     Devin Williams   Young Guns   MIL  RP   0.0     7  0.229674   \n",
       "1      10954       Jacob deGrom    Lima Time   TEX  SP   9.0     0 -1.542827   \n",
       "2  sa3023079        Paul Skenes   Ugly Spuds   PIT  SP   1.0     0 -2.110175   \n",
       "3  sa3020644  Jacob Misiorowski      Wu-Tang   MIL  SP   0.0     1 -2.970617   \n",
       "4  sa3014709         Tink Hence  Dirty Birds   STL  SP  10.0     0 -3.363050   \n",
       "5  sa3003222    Aldenis Sanchez      Madness  None  OF   0.0     1 -8.011463   \n",
       "\n",
       "       Value  \n",
       "0   1.145135  \n",
       "1  -7.692403  \n",
       "2 -10.521155  \n",
       "3 -14.811243  \n",
       "4 -16.767885  \n",
       "5 -39.944476  "
      ]
     },
     "execution_count": 25,
     "metadata": {},
     "output_type": "execute_result"
    }
   ],
   "source": [
    "pd.read_sql(\"SELECT playerid, Name, Owner, Team, Pos, Supp, Paid, z, Value FROM players2024 WHERE playerid IN ('sa3003222', 'sa3020644', 'sa3023079', 'sa3014709', '15816', '10954')\", engine)"
   ]
  },
  {
   "cell_type": "code",
   "execution_count": 29,
   "id": "92eb3df6",
   "metadata": {},
   "outputs": [
    {
     "ename": "NameError",
     "evalue": "name 'ids' is not defined",
     "output_type": "error",
     "traceback": [
      "\u001b[1;31m---------------------------------------------------------------------------\u001b[0m",
      "\u001b[1;31mNameError\u001b[0m                                 Traceback (most recent call last)",
      "Cell \u001b[1;32mIn[29], line 1\u001b[0m\n\u001b[1;32m----> 1\u001b[0m \u001b[43mids\u001b[49m\n",
      "\u001b[1;31mNameError\u001b[0m: name 'ids' is not defined"
     ]
    }
   ],
   "source": []
  },
  {
   "cell_type": "code",
   "execution_count": null,
   "id": "0085c810",
   "metadata": {},
   "outputs": [],
   "source": []
  }
 ],
 "metadata": {
  "hide_input": false,
  "kernelspec": {
   "display_name": "Python 3 (ipykernel)",
   "language": "python",
   "name": "python3"
  },
  "language_info": {
   "codemirror_mode": {
    "name": "ipython",
    "version": 3
   },
   "file_extension": ".py",
   "mimetype": "text/x-python",
   "name": "python",
   "nbconvert_exporter": "python",
   "pygments_lexer": "ipython3",
   "version": "3.11.4"
  }
 },
 "nbformat": 4,
 "nbformat_minor": 5
}
